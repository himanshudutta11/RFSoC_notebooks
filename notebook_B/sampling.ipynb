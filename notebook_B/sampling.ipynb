{
 "cells": [
  {
   "cell_type": "code",
   "execution_count": null,
   "id": "8c0ce6da",
   "metadata": {},
   "outputs": [],
   "source": [
    "\n",
    "import sys\n",
    "import os\n",
    "parent_dir = os.path.abspath(os.path.join(os.getcwd(), '..'))\n",
    "sys.path.append(parent_dir)\n"
   ]
  },
  {
   "cell_type": "code",
   "execution_count": null,
   "id": "d6a0e5dc",
   "metadata": {},
   "outputs": [],
   "source": [
    "import matplotlib.pyplot as plt\n",
    "from scipy import signal\n",
    "import numpy as np\n",
    "import scipy.fftpack\n",
    "import helper_functions as hf"
   ]
  },
  {
   "cell_type": "code",
   "execution_count": null,
   "id": "9f0e8f29",
   "metadata": {},
   "outputs": [],
   "source": [
    "A = 1       # Amplitude\n",
    "f = 100     # Desired frequency \n",
    "t = 0.06    # Time\n",
    "p = 10      # Phase\n",
    "\n",
    "ar = 48000  # A high sample rate to approximate a continuous signal. ar = analogue rate\n",
    "\n",
    "x_cont = np.arange(0, t, 1/ar)                    # Discrete time i.e. sampled time period\n",
    "y_cont = A * np.sin(2 * np.pi * f * x_cont + p)   # Formula for sine wave\n",
    "\n",
    "ax = hf.plot_timeseries(\"'Continuous' Waveform\",\n",
    "                        [x_cont], [y_cont],\n",
    "                        ['continuous'])"
   ]
  },
  {
   "cell_type": "code",
   "execution_count": null,
   "id": "7d089b5e",
   "metadata": {},
   "outputs": [],
   "source": [
    "A = 1       # Amplitude\n",
    "f = 100     # Desired frequency \n",
    "t = 0.06    # Time\n",
    "p = 10      # Phase\n",
    "\n",
    "fs = 100    # 100 Hz (1 sample per period)\n",
    "\n",
    "x = np.arange(0, t, 1/fs)                # Discrete time i.e. sampled time period\n",
    "y = A * np.sin(2 * np.pi * f * x + p)    # Formula for sine wave\n",
    "\n",
    "hf.plot_timeseries(\"Sampling Too Slow\",\n",
    "                   [x_cont, x], [y_cont, y], \n",
    "                   ['continuous', 'discrete'])"
   ]
  }
 ],
 "metadata": {
  "kernelspec": {
   "display_name": "Python 3",
   "language": "python",
   "name": "python3"
  },
  "language_info": {
   "codemirror_mode": {
    "name": "ipython",
    "version": 3
   },
   "file_extension": ".py",
   "mimetype": "text/x-python",
   "name": "python",
   "nbconvert_exporter": "python",
   "pygments_lexer": "ipython3",
   "version": "3.12.1"
  }
 },
 "nbformat": 4,
 "nbformat_minor": 5
}
